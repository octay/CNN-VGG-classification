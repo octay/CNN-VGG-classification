{
 "cells": [
  {
   "cell_type": "code",
   "execution_count": 2,
   "id": "14731a93",
   "metadata": {},
   "outputs": [],
   "source": [
    "import os, shutil"
   ]
  },
  {
   "cell_type": "code",
   "execution_count": 3,
   "id": "afb8f75b",
   "metadata": {},
   "outputs": [],
   "source": [
    "from keras.applications.vgg16 import VGG16  # dl VGG16\n",
    "from keras.models import Sequential\n",
    "from keras.layers import Conv2D, MaxPool2D, Activation, Dropout, Flatten, Dense\n",
    "from keras.optimizers import SGD\n",
    "from keras.preprocessing.image import ImageDataGenerator\n",
    "# from keras.preprocessing.image import load_img, img_to_array \n",
    "# cannot import name 'load_img' from 'keras.preprocessing.image' \n",
    "\n",
    "from keras.utils import image_utils  # use load_img, img_to_array from here\n",
    "from keras.models import load_model\n",
    "import numpy as np\n",
    "from matplotlib import pyplot as plt\n"
   ]
  },
  {
   "cell_type": "code",
   "execution_count": 4,
   "id": "35836072",
   "metadata": {},
   "outputs": [],
   "source": [
    "vgg16_model = VGG16(weights='imagenet', include_top=False,input_shape=(150, 150, 3))\n",
    "# 使用imagenet数据集训练\n",
    "# only conv and pool\n",
    "# top 在之后加\n",
    "# Downloading data from https://storage.googleapis.com/tensorflow/keras-applications/vgg16/vgg16_weights_tf_dim_ordering_tf_kernels_notop.h5\n",
    "# dl manually and put it on C:\\Users\\Administrator\\.keras\\models\n"
   ]
  },
  {
   "cell_type": "markdown",
   "id": "07443ce2",
   "metadata": {},
   "source": [
    "![2022-12-06_14-06-25](./ping_log/Snipaste_2022-12-06_14-06-25.png)"
   ]
  },
  {
   "cell_type": "code",
   "execution_count": 5,
   "id": "9a590fe4",
   "metadata": {},
   "outputs": [],
   "source": [
    "# top\n",
    "top_model = Sequential() # 图片输出四维，1代表数量\n",
    "top_model.add(Flatten(input_shape=vgg16_model.output_shape[1:]))\n",
    "top_model.add(Dense(256, activation='relu'))\n",
    "top_model.add(Dropout(0.5))\n",
    "top_model.add(Dense(2, activation='softmax'))\n"
   ]
  },
  {
   "cell_type": "code",
   "execution_count": 15,
   "id": "27ac7add",
   "metadata": {},
   "outputs": [],
   "source": [
    "model = Sequential()\n",
    "model.add(vgg16_model)\n",
    "model.add(top_model)\n"
   ]
  },
  {
   "cell_type": "code",
   "execution_count": 16,
   "id": "922a0d20",
   "metadata": {},
   "outputs": [
    {
     "name": "stdout",
     "output_type": "stream",
     "text": [
      "Model: \"sequential_2\"\n",
      "_________________________________________________________________\n",
      " Layer (type)                Output Shape              Param #   \n",
      "=================================================================\n",
      " vgg16 (Functional)          (None, 4, 4, 512)         14714688  \n",
      "                                                                 \n",
      " sequential (Sequential)     (None, 2)                 2097922   \n",
      "                                                                 \n",
      "=================================================================\n",
      "Total params: 16,812,610\n",
      "Trainable params: 16,812,610\n",
      "Non-trainable params: 0\n",
      "_________________________________________________________________\n",
      "None\n",
      "Model: \"vgg16\"\n",
      "_________________________________________________________________\n",
      " Layer (type)                Output Shape              Param #   \n",
      "=================================================================\n",
      " input_1 (InputLayer)        [(None, 150, 150, 3)]     0         \n",
      "                                                                 \n",
      " block1_conv1 (Conv2D)       (None, 150, 150, 64)      1792      \n",
      "                                                                 \n",
      " block1_conv2 (Conv2D)       (None, 150, 150, 64)      36928     \n",
      "                                                                 \n",
      " block1_pool (MaxPooling2D)  (None, 75, 75, 64)        0         \n",
      "                                                                 \n",
      " block2_conv1 (Conv2D)       (None, 75, 75, 128)       73856     \n",
      "                                                                 \n",
      " block2_conv2 (Conv2D)       (None, 75, 75, 128)       147584    \n",
      "                                                                 \n",
      " block2_pool (MaxPooling2D)  (None, 37, 37, 128)       0         \n",
      "                                                                 \n",
      " block3_conv1 (Conv2D)       (None, 37, 37, 256)       295168    \n",
      "                                                                 \n",
      " block3_conv2 (Conv2D)       (None, 37, 37, 256)       590080    \n",
      "                                                                 \n",
      " block3_conv3 (Conv2D)       (None, 37, 37, 256)       590080    \n",
      "                                                                 \n",
      " block3_pool (MaxPooling2D)  (None, 18, 18, 256)       0         \n",
      "                                                                 \n",
      " block4_conv1 (Conv2D)       (None, 18, 18, 512)       1180160   \n",
      "                                                                 \n",
      " block4_conv2 (Conv2D)       (None, 18, 18, 512)       2359808   \n",
      "                                                                 \n",
      " block4_conv3 (Conv2D)       (None, 18, 18, 512)       2359808   \n",
      "                                                                 \n",
      " block4_pool (MaxPooling2D)  (None, 9, 9, 512)         0         \n",
      "                                                                 \n",
      " block5_conv1 (Conv2D)       (None, 9, 9, 512)         2359808   \n",
      "                                                                 \n",
      " block5_conv2 (Conv2D)       (None, 9, 9, 512)         2359808   \n",
      "                                                                 \n",
      " block5_conv3 (Conv2D)       (None, 9, 9, 512)         2359808   \n",
      "                                                                 \n",
      " block5_pool (MaxPooling2D)  (None, 4, 4, 512)         0         \n",
      "                                                                 \n",
      "=================================================================\n",
      "Total params: 14,714,688\n",
      "Trainable params: 14,714,688\n",
      "Non-trainable params: 0\n",
      "_________________________________________________________________\n",
      "None\n",
      "Model: \"sequential\"\n",
      "_________________________________________________________________\n",
      " Layer (type)                Output Shape              Param #   \n",
      "=================================================================\n",
      " flatten (Flatten)           (None, 8192)              0         \n",
      "                                                                 \n",
      " dense (Dense)               (None, 256)               2097408   \n",
      "                                                                 \n",
      " dropout (Dropout)           (None, 256)               0         \n",
      "                                                                 \n",
      " dense_1 (Dense)             (None, 2)                 514       \n",
      "                                                                 \n",
      "=================================================================\n",
      "Total params: 2,097,922\n",
      "Trainable params: 2,097,922\n",
      "Non-trainable params: 0\n",
      "_________________________________________________________________\n",
      "None\n"
     ]
    }
   ],
   "source": [
    "print(model.summary())\n",
    "print(vgg16_model.summary())\n",
    "print(top_model.summary())"
   ]
  },
  {
   "cell_type": "code",
   "execution_count": 17,
   "id": "ebd0d018",
   "metadata": {},
   "outputs": [],
   "source": [
    "# 数据增强！ 跟那个cnn一样\n",
    "# 区分训练集和测试集\n",
    "# cnn没有在数据增强的时候做数据归一化，vgg数据归一化因为看到有文章说VGG和ResNet归一化会好一点\n",
    "\n",
    "train_datagen = ImageDataGenerator(\n",
    "    rotation_range=40,\n",
    "    width_shift_range=0.2,\n",
    "    height_shift_range=0.2,\n",
    "    rescale=1/255,  # 数据归一化\n",
    "    shear_range=0.2,\n",
    "    zoom_range=0.2,\n",
    "    horizontal_flip=True,\n",
    "    fill_mode='nearest',  # 填充新创建像素的方法\n",
    ")\n",
    "\n",
    "test_datagen = ImageDataGenerator(\n",
    "    rescale=1/255,  # 数据归一化\n",
    ")\n",
    "\n",
    "batch = 20  # 20 pre training as same as cnn\n",
    "\n",
    "train_dir = 'data_use/train/'\n",
    "test_dir = 'data_use/test/'\n",
    "validation_dir = 'data_use/validation/'\n",
    "\n",
    "# 猫训练图片所在目录\n",
    "train_cats_dir = os.path.join(train_dir, 'cats')\n",
    "\n",
    "# 狗训练图片所在目录\n",
    "train_dogs_dir = os.path.join(train_dir, 'dogs')\n",
    "\n",
    "# 猫验证图片所在目录\n",
    "validation_cats_dir = os.path.join(validation_dir, 'cats')\n",
    "\n",
    "# 狗验证数据集所在目录\n",
    "validation_dogs_dir = os.path.join(validation_dir, 'dogs')\n",
    "\n",
    "# 猫测试数据集所在目录\n",
    "test_cats_dir = os.path.join(test_dir, 'cats')\n",
    "\n",
    "# 狗测试数据集所在目录\n",
    "test_dogs_dir = os.path.join(test_dir, 'dogs')\n"
   ]
  },
  {
   "cell_type": "code",
   "execution_count": 18,
   "id": "2de7063e",
   "metadata": {},
   "outputs": [
    {
     "name": "stdout",
     "output_type": "stream",
     "text": [
      "Found 2000 images belonging to 2 classes.\n",
      "Found 1000 images belonging to 2 classes.\n",
      "Found 1000 images belonging to 2 classes.\n",
      "{'cats': 0, 'dogs': 1}\n",
      "{'cats': 0, 'dogs': 1}\n",
      "{'cats': 0, 'dogs': 1}\n"
     ]
    }
   ],
   "source": [
    "# 生成训练数据\n",
    "train_generator = train_datagen.flow_from_directory(\n",
    "    train_dir,  # 从训练集这个目录生成数据\n",
    "    target_size=(150, 150),  # 把生成数据大小定位150*150\n",
    "    batch_size=batch,\n",
    ")\n",
    "# 测试数据\n",
    "test_generator = test_datagen.flow_from_directory(\n",
    "    test_dir,  # 从训练集这个目录生成数据\n",
    "    target_size=(150, 150),  # 把生成数据大小定位150*150\n",
    "    batch_size=batch,\n",
    ")\n",
    "# 验证数据\n",
    "validation_generator = test_datagen.flow_from_directory(\n",
    "    validation_dir,  # 从训练集这个目录生成数据\n",
    "    target_size=(150, 150),  # 把生成数据大小定位150*150\n",
    "    batch_size=batch,\n",
    ")\n",
    "\n",
    "# 查看定义类别分类\n",
    "print(train_generator.class_indices)\n",
    "print(test_generator.class_indices)\n",
    "print(validation_generator.class_indices)\n"
   ]
  },
  {
   "cell_type": "code",
   "execution_count": 10,
   "id": "ab7dd60b",
   "metadata": {},
   "outputs": [
    {
     "name": "stdout",
     "output_type": "stream",
     "text": [
      "100/100 [==============================] - 564s 6s/step - loss: 0.6996 - accuracy: 0.6005 - val_loss: 0.4816 - val_accuracy: 0.8030\n"
     ]
    },
    {
     "data": {
      "text/plain": [
       "<keras.callbacks.History at 0x1eb80ca0a00>"
      ]
     },
     "execution_count": 10,
     "metadata": {},
     "output_type": "execute_result"
    }
   ],
   "source": [
    "# 优化器 损失函数 准确率\n",
    "model.compile(optimizer=SGD(learning_rate=1e-4, momentum=0.9),\n",
    "              loss='categorical_crossentropy', metrics=['accuracy'])\n",
    "# 每张训练1次 设定验证集\n",
    "model.fit(train_generator,\n",
    "                    epochs=1,\n",
    "                    validation_data=validation_generator)\n",
    "# do not use lr but learning_rate\n",
    "# use model.fit \n",
    "# steps_per_epoch=100\n",
    "# validation_steps"
   ]
  },
  {
   "cell_type": "code",
   "execution_count": 12,
   "id": "a6c29884",
   "metadata": {},
   "outputs": [],
   "source": [
    "# 额，在上一个块儿那挂了两次，好无助\n",
    "model.save('cats_and_dogs_vgg_wip.h5')"
   ]
  },
  {
   "cell_type": "code",
   "execution_count": 20,
   "id": "302f6469",
   "metadata": {
    "scrolled": true
   },
   "outputs": [
    {
     "name": "stdout",
     "output_type": "stream",
     "text": [
      "Epoch 1/4\n",
      "100/100 [==============================] - 554s 6s/step - loss: 0.2231 - accuracy: 0.9045 - val_loss: 0.2050 - val_accuracy: 0.9200\n",
      "Epoch 2/4\n",
      "100/100 [==============================] - 576s 6s/step - loss: 0.2157 - accuracy: 0.9115 - val_loss: 0.1398 - val_accuracy: 0.9460\n",
      "Epoch 3/4\n",
      "100/100 [==============================] - 571s 6s/step - loss: 0.1876 - accuracy: 0.9255 - val_loss: 0.1505 - val_accuracy: 0.9420\n",
      "Epoch 4/4\n",
      "100/100 [==============================] - 561s 6s/step - loss: 0.1826 - accuracy: 0.9310 - val_loss: 0.1235 - val_accuracy: 0.9550\n"
     ]
    }
   ],
   "source": [
    "# 优化器 损失函数 准确率\n",
    "model.compile(optimizer=SGD(learning_rate=1e-4, momentum=0.9),\n",
    "              loss='categorical_crossentropy', metrics=['accuracy'])\n",
    "\n",
    "# skip the 2 up block and run this block and goon\n",
    "history = model.fit(\n",
    "    train_generator,\n",
    "    steps_per_epoch=100,\n",
    "    epochs=4,  # 迭代次数\n",
    "    validation_data=validation_generator,\n",
    "    validation_steps=50\n",
    ")\n"
   ]
  },
  {
   "cell_type": "code",
   "execution_count": 21,
   "id": "81c57b64",
   "metadata": {},
   "outputs": [],
   "source": [
    "# 额，在上一个块儿那挂了三次，好无助\n",
    "model.save(\"cats_and_dogs_vgg.h5\")"
   ]
  },
  {
   "cell_type": "code",
   "execution_count": 22,
   "id": "52364fbf",
   "metadata": {},
   "outputs": [],
   "source": [
    "import matplotlib.pyplot as plt"
   ]
  },
  {
   "cell_type": "code",
   "execution_count": 23,
   "id": "e39ac59d",
   "metadata": {},
   "outputs": [
    {
     "name": "stdout",
     "output_type": "stream",
     "text": [
      "{'loss': [0.22307689487934113, 0.21569284796714783, 0.18758514523506165, 0.18255844712257385], 'accuracy': [0.9045000076293945, 0.9114999771118164, 0.9254999756813049, 0.9309999942779541], 'val_loss': [0.2050267606973648, 0.13983993232250214, 0.1505006104707718, 0.1234559416770935], 'val_accuracy': [0.9200000166893005, 0.9459999799728394, 0.9419999718666077, 0.9549999833106995]}\n"
     ]
    }
   ],
   "source": [
    "print(history.history)"
   ]
  },
  {
   "cell_type": "code",
   "execution_count": 29,
   "id": "2aef8416",
   "metadata": {},
   "outputs": [
    {
     "data": {
      "image/png": "[encoded data removed]",
      "text/plain": [
       "<Figure size 432x288 with 1 Axes>"
      ]
     },
     "metadata": {
      "needs_background": "light"
     },
     "output_type": "display_data"
    },
    {
     "data": {
      "image/png": "[encoded data removed]",
      "text/plain": [
       "<Figure size 432x288 with 1 Axes>"
      ]
     },
     "metadata": {
      "needs_background": "light"
     },
     "output_type": "display_data"
    }
   ],
   "source": [
    "acc = history.history['accuracy']  # history.history is a dict type\n",
    "val_acc = history.history['val_accuracy']\n",
    "loss = history.history['loss']\n",
    "val_loss = history.history['val_loss']\n",
    "\n",
    "epochs = range(len(acc))\n",
    "\n",
    "plt.rcParams['font.sans-serif'] = 'Overpass'\n",
    "\n",
    "plt.figure()\n",
    "plt.plot(epochs, acc, 'bo', label='Training acc')\n",
    "plt.plot(epochs, val_acc, 'b', label='Validation acc')\n",
    "plt.xlim([-1, 5])\n",
    "plt.ylim([0.9, 1])\n",
    "plt.title('Training and validation accuracy')\n",
    "plt.legend()\n",
    "plt.show()\n",
    "\n",
    "plt.figure()\n",
    "plt.plot(epochs, loss, 'bo', label='Training loss')\n",
    "plt.plot(epochs, val_loss, 'b', label='Validation loss')\n",
    "plt.xlim([-1, 5])\n",
    "plt.ylim([0.1, 0.3])\n",
    "plt.title('Training and validation loss')\n",
    "plt.legend()\n",
    "plt.show()\n"
   ]
  },
  {
   "cell_type": "code",
   "execution_count": 30,
   "id": "ad46e2b5",
   "metadata": {},
   "outputs": [],
   "source": [
    "# end\n"
   ]
  }
 ],
 "metadata": {
  "kernelspec": {
   "display_name": "Python 3 (ipykernel)",
   "language": "python",
   "name": "python3"
  },
  "language_info": {
   "codemirror_mode": {
    "name": "ipython",
    "version": 3
   },
   "file_extension": ".py",
   "mimetype": "text/x-python",
   "name": "python",
   "nbconvert_exporter": "python",
   "pygments_lexer": "ipython3",
   "version": "3.9.6"
  }
 },
 "nbformat": 4,
 "nbformat_minor": 5
}
